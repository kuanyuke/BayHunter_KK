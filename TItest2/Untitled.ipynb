{
 "cells": [
  {
   "cell_type": "code",
   "execution_count": 1,
   "metadata": {
    "scrolled": false
   },
   "outputs": [
    {
     "name": "stdout",
     "output_type": "stream",
     "text": [
      "Current data path: results/data\n",
      "Outlier chains from file: None\n",
      "> Saving posterior distribution.\n",
      "ici\n",
      "here\n",
      "no way\n",
      "hii\n",
      "byee\n"
     ]
    }
   ],
   "source": [
    "\n",
    "import os\n",
    "os.environ[\"MKL_NUM_THREADS\"] = \"1\"\n",
    "os.environ[\"NUMEXPR_NUM_THREADS\"] = \"1\"\n",
    "os.environ[\"OMP_NUM_THREADS\"] = \"1\"\n",
    "import numpy as np\n",
    "import os.path as op\n",
    "import matplotlib\n",
    "matplotlib.use('PDF')\n",
    "\n",
    "import sys\n",
    "sys.path.append(\"..\")\n",
    "\n",
    "from src import PlotFromStorage\n",
    "from src import Targets\n",
    "from src import utils\n",
    "from src.mcmcOptimizer import MCMC_Optimizer\n",
    "from src.Models import ModelMatrix, Model\n",
    "from src.SynthObs import SynthObs\n",
    "\n",
    "import logging\n",
    "\n",
    "\n",
    "\n",
    "#\n",
    "# console printout formatting\n",
    "#\n",
    "formatter = ' %(processName)-12s: %(levelname)-8s |  %(message)s'\n",
    "logging.basicConfig(format=formatter, level=logging.INFO)\n",
    "logger = logging.getLogger()\n",
    "\n",
    "\n",
    "#\n",
    "# ------------------------------------------------------------  obs SYNTH DATA\n",
    "#\n",
    "# Load priors and initparams from config.ini or simply create dictionaries.\n",
    "initfile = 'config.ini'\n",
    "priors, initparams = utils.load_params(initfile)\n",
    "\n",
    "noise = [0.0, 0.012, 0.98, 0.005]\n",
    "# Load observed data (synthetic test data)\n",
    "xswsv, _yswsv = np.loadtxt('observed/st3_rdispph.dat').T\n",
    "yswsv_err = SynthObs.compute_expnoise(_yswsv, corr=noise[0], sigma=noise[1])\n",
    "yswsv = _yswsv + yswsv_err\n",
    "\n",
    "xswsh, _yswsh = np.loadtxt('observed/st3_ldispph.dat').T\n",
    "yswsh_err = SynthObs.compute_expnoise(_yswsh, corr=noise[0], sigma=noise[1])\n",
    "yswsh = _yswsh + yswsh_err\n",
    "\n",
    "## RF\n",
    "xrf, _yrf = np.loadtxt('observed/st3_prf.dat').T\n",
    "yrf_err = SynthObs.compute_gaussnoise(_yrf, corr=noise[2], sigma=noise[3])\n",
    "yrf = _yrf + yrf_err\n",
    "\n",
    "#\n",
    "# -------------------------------------------  get reference model for BayWatch\n",
    "#\n",
    "# Create truemodel only if you wish to have reference values in plots\n",
    "# and BayWatch. You ONLY need to assign the values in truemodel that you\n",
    "# wish to have visible.\n",
    "dep, vsv, vsh = np.loadtxt('observed/st3_mod.dat', usecols=[0, 2, 3], skiprows=1).T\n",
    "pdep = np.concatenate((np.repeat(dep, 2)[1:], [150]))\n",
    "pvsv = np.repeat(vsv, 2)\n",
    "pvsh = np.repeat(vsh, 2)\n",
    "\n",
    "truenoise = np.concatenate(([noise[0]], [np.std(yswsv_err)],   # target 1\n",
    "                            [noise[2]], [np.std(yrf_err)],  # target 2\t\n",
    "                            [noise[0]], [np.std(yswsh_err)]))  # target 3\n",
    "\n",
    "explike = SynthObs.compute_explike(yobss=[yswsv, yrf, yswsh], ymods=[_yswsv, _yrf,_yswsh],\n",
    "                                   noise=truenoise, gauss=[False, True, False],\n",
    "                                   rcond=initparams['rcond'])\n",
    "truemodel = {'model': (pdep, pvsv, pvsh),\n",
    "             'nlays': 3,\n",
    "             'noise': truenoise,\n",
    "             'explike': explike,\n",
    "             }\n",
    "            \n",
    "\n",
    "#\n",
    "#  ---------------------------------------------------  Quick parameter update\n",
    "#\n",
    "# \"priors\" and \"initparams\" from config.ini are python dictionaries. You could\n",
    "# also simply define the dictionaries directly in the script, if you don't want\n",
    "# to use a config.ini file. Or update the dictionaries as follows, e.g. if you\n",
    "# have station specific values, etc.\n",
    "# See docs/bayhunter.pdf for explanation of parameters\n",
    "\n",
    "priors.update({'mohoest': (38, 4),  # optional, moho estimate (mean, std)\n",
    "               'rfnoise_corr': 0.98,\n",
    "               'swdnoise_corr': 0.\n",
    "               # 'rfnoise_sigma': np.std(yrf_err),  # fixed to true value\n",
    "               # 'swdnoise_sigma': np.std(ysw_err),  # fixed to true value\n",
    "               })\n",
    "\n",
    "initparams.update({'nchains': 5,\n",
    "                   'iter_burnin': (2048 * 32),\n",
    "                   'iter_main': (2048 * 16),\n",
    "                   'propdist': (0.025, 0.025, 0.015, 0.005, 0.005,0.005),\n",
    "                   })\n",
    "\n",
    "#\n",
    "#\n",
    "# #  ---------------------------------------------- Model resaving and plotting\n",
    "path = initparams['savepath']\n",
    "cfile = '%s_config.pkl' % initparams['station']\n",
    "configfile = op.join(path, 'data', cfile)\n",
    "obj = PlotFromStorage(configfile)\n",
    "# The final distributions will be saved with save_final_distribution.\n",
    "# Beforehand, outlier chains will be detected and excluded.\n",
    "# Outlier chains are defined as chains with a likelihood deviation\n",
    "# of dev * 100 % from the median posterior likelihood of the best chain.\n",
    "obj.save_final_distribution(maxmodels=100000, dev=0.05)\n",
    "# Save a selection of important plots\n",
    "obj.save_plots(refmodel=truemodel)\n",
    "#obj.merge_pdfs()\n"
   ]
  },
  {
   "cell_type": "code",
   "execution_count": 23,
   "metadata": {},
   "outputs": [
    {
     "name": "stdout",
     "output_type": "stream",
     "text": [
      "[2.759664  3.6164665 3.6432364]\n"
     ]
    }
   ],
   "source": [
    "import numpy as np\n",
    "a = [ 1.73,        2.7098963,   2.759664,    3.6164665,   3.6432364,   3.6083827,\n",
    "   3.5861773,   3.7774973,  3.8073938,   4.3996363,   0.48063356,  1.5643405,\n",
    "   8.645283,   13.080572,   14.486021,   23.47644,    32.987835,   35.54753,\n",
    "  36.75174]\n",
    "a = np.array(a)\n",
    "b = 5\n",
    "print a[2:b]"
   ]
  },
  {
   "cell_type": "code",
   "execution_count": 20,
   "metadata": {},
   "outputs": [
    {
     "ename": "SyntaxError",
     "evalue": "invalid syntax (<ipython-input-20-7834bfc346aa>, line 1)",
     "output_type": "error",
     "traceback": [
      "\u001b[0;36m  File \u001b[0;32m\"<ipython-input-20-7834bfc346aa>\"\u001b[0;36m, line \u001b[0;32m1\u001b[0m\n\u001b[0;31m    ....\u001b[0m\n\u001b[0m    ^\u001b[0m\n\u001b[0;31mSyntaxError\u001b[0m\u001b[0;31m:\u001b[0m invalid syntax\n"
     ]
    }
   ],
   "source": [
    "...."
   ]
  },
  {
   "cell_type": "code",
   "execution_count": null,
   "metadata": {},
   "outputs": [],
   "source": []
  }
 ],
 "metadata": {
  "kernelspec": {
   "display_name": "Python 2",
   "language": "python",
   "name": "python2"
  },
  "language_info": {
   "codemirror_mode": {
    "name": "ipython",
    "version": 2
   },
   "file_extension": ".py",
   "mimetype": "text/x-python",
   "name": "python",
   "nbconvert_exporter": "python",
   "pygments_lexer": "ipython2",
   "version": "2.7.18"
  }
 },
 "nbformat": 4,
 "nbformat_minor": 2
}
